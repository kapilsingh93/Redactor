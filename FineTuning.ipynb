{
 "cells": [
  {
   "cell_type": "markdown",
   "id": "b2aca65d-a58c-4aa2-b88e-73aa2c3dade1",
   "metadata": {},
   "source": [
    "# Model Fine tuning on FUNSD dataset"
   ]
  },
  {
   "cell_type": "code",
   "execution_count": 41,
   "id": "f3aae165-e1d7-42a9-b3ea-f578513355ad",
   "metadata": {
    "tags": []
   },
   "outputs": [],
   "source": [
    "import json\n",
    "import os\n",
    "import datasets\n",
    "from datasets import  DatasetDict, Dataset, Features, Sequence, ClassLabel, Value, Array2D, Array3D, load_metric\n",
    "import pandas as pd\n",
    "from PIL import Image\n",
    "from transformers import LayoutLMv3Processor, logging, AdamW, LayoutLMForTokenClassification, AutoProcessor\n",
    "from redactor.token_classification_wrapper import LayoutLMv3ForTokenClassification\n",
    "from datasets import Features, Sequence, ClassLabel, Value, Array2D, Array3D\n",
    "from torch.nn import  CrossEntropyLoss\n",
    "from torch.utils.data import DataLoader\n",
    "import torch\n",
    "from tqdm import tqdm\n",
    "import pandas as pd\n",
    "import argparse\n",
    "from seqeval.metrics import classification_report\n",
    "from seqeval.scheme import IOBES\n",
    "\n",
    "\n",
    "logging.set_verbosity_error()\n",
    "processor =  AutoProcessor.from_pretrained(\"microsoft/layoutlmv3-base\", apply_ocr=False)\n",
    "\n",
    "\n",
    "def normalize_box(box, width, height):\n",
    "\n",
    "    return [\n",
    "        int(1000 * (box[0] / width)),\n",
    "        int(1000 * (box[1] / height)),\n",
    "        int(1000 * (box[2] / width)),\n",
    "        int(1000 * (box[3] / height)),\n",
    "    ]\n",
    "\n",
    "def create_DS(path):\n",
    "  train = []\n",
    "  for f in os.listdir(f'{path}/annotations'):\n",
    "    if f.startswith(\".\"):\n",
    "        continue\n",
    "    with open(f'{path}/annotations/{f}') as fp:\n",
    "      annotation = json.load(fp)\n",
    "\n",
    "    id = 0\n",
    "    tmp = {}\n",
    "    tmp['id'] = str(id)\n",
    "    tmp['words'] = []\n",
    "    tmp['bboxes'] = []\n",
    "    tmp['ner_tags'] = []\n",
    "    # tmp['idxs'] = []\n",
    "    for ann in annotation['form']:\n",
    "      image = f\"{path}/images/{f.replace('json', 'png')}\"\n",
    "      tmp['image_path'] = image\n",
    "      img = Image.open(image)\n",
    "      width, height = img.size\n",
    "  \n",
    "      words, label = ann[\"words\"], ann[\"label\"]\n",
    "      words = [w for w in words if w[\"text\"].strip() != \"\"]\n",
    "      if len(words) == 0:\n",
    "        continue\n",
    "      if label == \"other\":\n",
    "        for w in words:\n",
    "            tmp['words'].append(w['text'])\n",
    "            tmp['bboxes'].append(normalize_box(w['box'], width, height))\n",
    "            tmp['ner_tags'].append(label2id['O'])\n",
    "      else:\n",
    "          if len(words) == 1:\n",
    "              tmp['words'].append(words[0][\"text\"])\n",
    "              tmp['bboxes'].append(normalize_box(words[0]['box'], width, height))\n",
    "              tmp['ner_tags'].append(label2id[\"S-\"+label.upper()])\n",
    "\n",
    "          else:\n",
    "              tmp['words'].append(words[0][\"text\"])\n",
    "              tmp['bboxes'].append(normalize_box(words[0]['box'], width, height))\n",
    "              tmp['ner_tags'].append(label2id[\"B-\"+label.upper()])\n",
    "              for w in words[1:-1]:\n",
    "                  tmp['words'].append(w[\"text\"])\n",
    "                  tmp['bboxes'].append(normalize_box(w['box'], width, height))\n",
    "                  tmp['ner_tags'].append(label2id[\"I-\"+label.upper()])\n",
    "\n",
    "              tmp['words'].append(words[-1][\"text\"])\n",
    "              tmp['bboxes'].append(normalize_box(words[-1]['box'], width, height))\n",
    "              tmp['ner_tags'].append(label2id[\"E-\"+label.upper()])\n",
    "\n",
    "      \n",
    "    train.append(tmp)\n",
    "    id += 1\n",
    "  df = pd.DataFrame(data=train)\n",
    "  return df\n",
    "\n",
    "\n",
    "\n",
    "def preprocess_data(examples):\n",
    "    images = [Image.open(path).convert(\"RGB\") for path in examples['image_path']]\n",
    "    words = examples['words']\n",
    "    boxes = examples['bboxes']\n",
    "    word_labels = examples['ner_tags']\n",
    "    encoded_inputs = processor(images, words, boxes=boxes, word_labels=word_labels,\n",
    "                             padding=\"max_length\", truncation=True)\n",
    "  \n",
    "    return encoded_inputs\n"
   ]
  },
  {
   "cell_type": "code",
   "execution_count": 42,
   "id": "8d9718b4-07d7-4df0-8825-5023232ffd75",
   "metadata": {
    "tags": []
   },
   "outputs": [],
   "source": [
    "def do_eval(model, dataloader_eval):\n",
    "    device = torch.device('cuda' if torch.cuda.is_available() else 'cpu')\n",
    "\n",
    "    # put model in evaluation mode\n",
    "    model.eval()\n",
    "    final_predictions = []\n",
    "    final_true = []\n",
    "    for batch in tqdm(dataloader_eval, desc=\"Evaluating\"):\n",
    "        with torch.no_grad():\n",
    "            input_ids = batch['input_ids'].to(device)\n",
    "            bbox = batch['bbox'].to(device)\n",
    "            image = batch['pixel_values'].to(device)\n",
    "            attention_mask = batch['attention_mask'].to(device)\n",
    "            labels = batch['labels'].to(device)\n",
    "\n",
    "            # forward pass\n",
    "            outputs = model(**batch) \n",
    "            \n",
    "            eval_loss = outputs.loss\n",
    "            # predictions\n",
    "            predictions = outputs.logits.argmax(dim=2)\n",
    "\n",
    "            # Remove ignored index (special tokens)\n",
    "            true_predictions = [\n",
    "                final_predictions.append([id2label[p.item()] for (p, l) in zip(prediction, label) if l != -100])\n",
    "                for prediction, label in zip(predictions, labels)\n",
    "            ]\n",
    "            true_labels = [\n",
    "                final_true.append([id2label[l.item()] for (p, l) in zip(prediction, label) if l != -100])\n",
    "                for prediction, label in zip(predictions, labels)\n",
    "            ]\n",
    "\n",
    "    # print(f\"Predicitons: {final_predictions}\")\n",
    "    # print(f\"Ground Truth: {final_true}\")\n",
    "    final_score = classification_report(final_true, final_predictions, output_dict=True, mode='strict', scheme=IOBES)\n",
    "    print(classification_report(final_true, final_predictions, output_dict=False, mode='strict', scheme=IOBES))\n",
    "    final_score['eval_loss'] = eval_loss.item()\n",
    "    print(f\"Validation loss: {final_score['eval_loss']}\")\n",
    "    return final_score\n",
    "\n",
    "def train_layoutLM(model, epochs, dataloader_train, dataloader_eval, class_weights,  optimizer, early_stop_arg, run, model_dir, results_dir):\n",
    "  #args for early stop\n",
    "  last_loss = 1000\n",
    "  patience = early_stop_arg['patience']\n",
    "  trigger_times = 0\n",
    "\n",
    "  device = torch.device('cuda' if torch.cuda.is_available() else 'cpu')\n",
    "  model.to(device)\n",
    "\n",
    "  global_step = 0\n",
    "  num_train_epochs = epochs\n",
    "  final_results = []\n",
    "  #put the model in training mode\n",
    "  model.train() \n",
    "  model.loss_fct=CrossEntropyLoss(weight=class_weights) \n",
    "  for epoch in range(num_train_epochs):  \n",
    "    for batch in tqdm(dataloader_train, desc=f'training {epoch}/{num_train_epochs}'):\n",
    "        # zero the parameter gradients\n",
    "        optimizer.zero_grad()\n",
    "        # forward + backward + optimize\n",
    "        outputs = model(**batch) \n",
    "        loss = outputs.loss\n",
    "\n",
    "        loss.backward()\n",
    "        optimizer.step()\n",
    "        global_step += 1\n",
    "\n",
    "\n",
    "    print(f\"Loss after {epoch} epochs: {loss.item()}\")    \n",
    "    eval_results = do_eval(model, dataloader_eval) \n",
    "    current_loss = eval_results['eval_loss']\n",
    "    #implementing early stopping\n",
    "    if current_loss > last_loss:\n",
    "      trigger_times += 1\n",
    "      print(f'Validation loss did not decrease from {last_loss}.')\n",
    "      print('Trigger Times:', trigger_times)\n",
    "\n",
    "      if trigger_times >= patience:\n",
    "          print(f'Early stopping because validation loss did not decrease after {trigger_times} epochs.')\n",
    "          print(f'Returning best model named: {best_model}')\n",
    "          best_model = torch.load(best_model)\n",
    "          df = pd.DataFrame(final_results)\n",
    "          df.to_csv(f'{results_dir}/log_FUNSD_run{run}.csv', index = False)\n",
    "          return best_model\n",
    "\n",
    "    else:\n",
    "      print(f'Validation loss decresed. Saving checkpoint...')\n",
    "      best_model = f'{model_dir}/checkpointLMv3_epoch{epoch}.pt'\n",
    "      for ckpt in os.listdir(model_dir):\n",
    "          if 'checkpointLMv3_epoch' in ckpt:\n",
    "              os.remove(f'{model_dir}/{ckpt}') #avoid too many checkpoints\n",
    "      torch.save(model, best_model)\n",
    "      trigger_times = 0\n",
    "      last_loss = current_loss\n",
    "\n",
    "    tmp = eval_results\n",
    "    tmp['epoch'] =  epoch\n",
    "    tmp['train_loss'] =  loss.item()\n",
    "    final_results.append(tmp)\n",
    "    \n",
    "  df = pd.DataFrame(final_results)\n",
    "  df.to_csv(f'{results_dir}/log_FUNSD_run{run}.csv', index = False)\n",
    "  best_model = torch.load(best_model)\n",
    "  return best_model"
   ]
  },
  {
   "cell_type": "code",
   "execution_count": 43,
   "id": "e56c4348-aad5-4560-ad02-21bc51d28ddc",
   "metadata": {
    "tags": []
   },
   "outputs": [],
   "source": [
    "LABELS=[\n",
    "    # \"S-ANSWER\",\"E-HEADER\",\"B-HEADER\",\"E-QUESTION\",\"O\",\"E-ANSWER\",\"B-QUESTION\",\"B-ANSWER\",\"S-HEADER\",\"I-ANSWER\",\"I-HEADER\",\"I-QUESTION\",\"S-QUESTION\",\n",
    "        \"O\",\"I-NAME\",\"B-NAME\",\"E-NAME\",\"S-NAME\",\"I-PHONE\",\"B-PHONE\",\"E-PHONE\",\"S-PHONE\",\"I-ADDRESS\",\"B-ADDRESS\",\"E-ADDRESS\",\"S-ADDRESS\"]\n",
    "label2id =  {k.upper():v for v, k in enumerate(LABELS)}"
   ]
  },
  {
   "cell_type": "markdown",
   "id": "06411296-9a0d-4d17-9dd0-734f5702e35d",
   "metadata": {
    "tags": []
   },
   "source": [
    "## Preparing Data for training"
   ]
  },
  {
   "cell_type": "code",
   "execution_count": 44,
   "id": "2cace062-57c1-438d-b3af-885aa256e476",
   "metadata": {
    "tags": []
   },
   "outputs": [
    {
     "name": "stdout",
     "output_type": "stream",
     "text": [
      "preparing dataset...\n",
      "trainig split: 149\n",
      "validation split: 50\n",
      "{'O': 0, 'I-NAME': 1, 'B-NAME': 2, 'E-NAME': 3, 'S-NAME': 4, 'I-PHONE': 5, 'B-PHONE': 6, 'E-PHONE': 7, 'S-PHONE': 8, 'I-ADDRESS': 9, 'B-ADDRESS': 10, 'E-ADDRESS': 11, 'S-ADDRESS': 12}\n"
     ]
    },
    {
     "data": {
      "application/vnd.jupyter.widget-view+json": {
       "model_id": "11f367d811274da1ad287627aa4541b1",
       "version_major": 2,
       "version_minor": 0
      },
      "text/plain": [
       "Map:   0%|          | 0/149 [00:00<?, ? examples/s]"
      ]
     },
     "metadata": {},
     "output_type": "display_data"
    },
    {
     "data": {
      "application/vnd.jupyter.widget-view+json": {
       "model_id": "093f2b1213ce47be9b89a41322d333b4",
       "version_major": 2,
       "version_minor": 0
      },
      "text/plain": [
       "Map:   0%|          | 0/50 [00:00<?, ? examples/s]"
      ]
     },
     "metadata": {},
     "output_type": "display_data"
    }
   ],
   "source": [
    "print('preparing dataset...')\n",
    "train = create_DS('/home/ec2-user/SageMaker/data/FUNSD/dataset/training_data')\n",
    "test = create_DS('/home/ec2-user/SageMaker/data/FUNSD/dataset/testing_data')\n",
    "\n",
    "print(f'trainig split: {len(train)}')\n",
    "print(f'validation split: {len(test)}')\n",
    "\n",
    "\n",
    "features= Features({'bboxes': Sequence(feature=Sequence(feature=Value(dtype='int64', id=None), length=-1, id=None), length=-1, id=None),\n",
    " 'id': Value(dtype='string', id=None),\n",
    " 'image_path': Value(dtype='string', id=None),\n",
    " 'ner_tags': Sequence(feature=ClassLabel(num_classes=len(label2id), names=list(label2id.keys()),id=None), length=-1, id=None),\n",
    " 'words': Sequence(feature=Value(dtype='string', id=None), length=-1, id=None)})\n",
    "\n",
    "train_ds = datasets.Dataset.from_pandas(train, features = features)\n",
    "test_ds = datasets.Dataset.from_pandas(test, features = features)\n",
    "\n",
    "labels = train_ds.features['ner_tags'].feature.names\n",
    "id2label = {v: k for v, k in enumerate(labels)}\n",
    "label2id = {k: v for v, k in enumerate(labels)}\n",
    "print(label2id)\n",
    "\n",
    "# we need to define custom features\n",
    "features = Features({\n",
    "    'pixel_values': Array3D(dtype=\"float32\", shape=(3, 224, 224)),\n",
    "    'input_ids': Sequence(feature=Value(dtype='int64')),\n",
    "    'attention_mask': Sequence(Value(dtype='int64')),\n",
    "    'bbox': Array2D(dtype=\"int64\", shape=(512, 4)),\n",
    "    'labels': Sequence(feature=Value(dtype='int64')),\n",
    "})\n",
    "\n",
    "\n",
    "train_dataset = train_ds.map(preprocess_data, batched=True, remove_columns=train_ds.column_names,\n",
    "                                      features=features, batch_size = 8)\n",
    "test_dataset = test_ds.map(preprocess_data, batched=True, remove_columns=test_ds.column_names,\n",
    "                                      features=features, batch_size = 8)\n",
    "\n",
    "train_dataset.set_format(type=\"torch\", device='cuda')\n",
    "test_dataset.set_format(type=\"torch\", device='cuda')\n",
    "\n",
    "train_dataloader = DataLoader(train_dataset, batch_size=6, shuffle=True)\n",
    "eval_dataloader = DataLoader(test_dataset, batch_size=6, shuffle=True)"
   ]
  },
  {
   "cell_type": "markdown",
   "id": "7039fd80-27cf-4680-b468-aa52d95128f2",
   "metadata": {},
   "source": [
    "## Start Training"
   ]
  },
  {
   "cell_type": "code",
   "execution_count": 45,
   "id": "d7a989a9-99f0-4b2b-a6eb-4fb6f6426b5d",
   "metadata": {
    "scrolled": true,
    "tags": []
   },
   "outputs": [
    {
     "name": "stderr",
     "output_type": "stream",
     "text": [
      "/home/ec2-user/anaconda3/envs/pytorch_p310/lib/python3.10/site-packages/transformers/optimization.py:429: FutureWarning: This implementation of AdamW is deprecated and will be removed in a future version. Use the PyTorch implementation torch.optim.AdamW instead, or set `no_deprecation_warning=True` to disable this warning\n",
      "  warnings.warn(\n"
     ]
    },
    {
     "name": "stdout",
     "output_type": "stream",
     "text": [
      "starting training...\n"
     ]
    },
    {
     "name": "stderr",
     "output_type": "stream",
     "text": [
      "training 0/100:   0%|          | 0/25 [00:00<?, ?it/s]/home/ec2-user/anaconda3/envs/pytorch_p310/lib/python3.10/site-packages/transformers/modeling_utils.py:942: FutureWarning: The `device` argument is deprecated and will be removed in v5 of Transformers.\n",
      "  warnings.warn(\n",
      "training 0/100: 100%|██████████| 25/25 [00:50<00:00,  2.01s/it]\n"
     ]
    },
    {
     "name": "stdout",
     "output_type": "stream",
     "text": [
      "Loss after 0 epochs: 1.0972405672073364\n"
     ]
    },
    {
     "name": "stderr",
     "output_type": "stream",
     "text": [
      "Evaluating: 100%|██████████| 9/9 [00:03<00:00,  2.86it/s]\n",
      "/home/ec2-user/anaconda3/envs/pytorch_p310/lib/python3.10/site-packages/seqeval/metrics/v1.py:57: UndefinedMetricWarning: Precision and F-score are ill-defined and being set to 0.0 in labels with no predicted samples. Use `zero_division` parameter to control this behavior.\n",
      "  _warn_prf(average, modifier, msg_start, len(result))\n",
      "/home/ec2-user/anaconda3/envs/pytorch_p310/lib/python3.10/site-packages/seqeval/metrics/v1.py:57: UndefinedMetricWarning: Precision and F-score are ill-defined and being set to 0.0 due to no predicted samples. Use `zero_division` parameter to control this behavior.\n",
      "  _warn_prf(average, modifier, msg_start, len(result))\n"
     ]
    },
    {
     "name": "stdout",
     "output_type": "stream",
     "text": [
      "              precision    recall  f1-score   support\n",
      "\n",
      "     ADDRESS       0.00      0.00      0.00        30\n",
      "        NAME       0.00      0.00      0.00       126\n",
      "       PHONE       0.00      0.00      0.00        77\n",
      "\n",
      "   micro avg       0.00      0.00      0.00       233\n",
      "   macro avg       0.00      0.00      0.00       233\n",
      "weighted avg       0.00      0.00      0.00       233\n",
      "\n",
      "Validation loss: 2.360222339630127\n",
      "Validation loss decresed. Saving checkpoint...\n"
     ]
    },
    {
     "name": "stderr",
     "output_type": "stream",
     "text": [
      "training 1/100: 100%|██████████| 25/25 [00:49<00:00,  1.99s/it]\n"
     ]
    },
    {
     "name": "stdout",
     "output_type": "stream",
     "text": [
      "Loss after 1 epochs: 0.7417142391204834\n"
     ]
    },
    {
     "name": "stderr",
     "output_type": "stream",
     "text": [
      "Evaluating: 100%|██████████| 9/9 [00:03<00:00,  2.88it/s]\n"
     ]
    },
    {
     "name": "stdout",
     "output_type": "stream",
     "text": [
      "              precision    recall  f1-score   support\n",
      "\n",
      "     ADDRESS       0.00      0.00      0.00        30\n",
      "        NAME       0.00      0.00      0.00       126\n",
      "       PHONE       0.00      0.00      0.00        77\n",
      "\n",
      "   micro avg       0.00      0.00      0.00       233\n",
      "   macro avg       0.00      0.00      0.00       233\n",
      "weighted avg       0.00      0.00      0.00       233\n",
      "\n",
      "Validation loss: 1.1105446815490723\n",
      "Validation loss decresed. Saving checkpoint...\n"
     ]
    },
    {
     "name": "stderr",
     "output_type": "stream",
     "text": [
      "training 2/100: 100%|██████████| 25/25 [00:49<00:00,  1.99s/it]\n"
     ]
    },
    {
     "name": "stdout",
     "output_type": "stream",
     "text": [
      "Loss after 2 epochs: 0.46343904733657837\n"
     ]
    },
    {
     "name": "stderr",
     "output_type": "stream",
     "text": [
      "Evaluating: 100%|██████████| 9/9 [00:03<00:00,  2.88it/s]\n"
     ]
    },
    {
     "name": "stdout",
     "output_type": "stream",
     "text": [
      "              precision    recall  f1-score   support\n",
      "\n",
      "     ADDRESS       0.00      0.00      0.00        30\n",
      "        NAME       0.53      0.44      0.48       126\n",
      "       PHONE       0.00      0.00      0.00        77\n",
      "\n",
      "   micro avg       0.53      0.24      0.33       233\n",
      "   macro avg       0.18      0.15      0.16       233\n",
      "weighted avg       0.29      0.24      0.26       233\n",
      "\n",
      "Validation loss: 1.0092638731002808\n",
      "Validation loss decresed. Saving checkpoint...\n"
     ]
    },
    {
     "name": "stderr",
     "output_type": "stream",
     "text": [
      "training 3/100: 100%|██████████| 25/25 [00:49<00:00,  1.99s/it]\n"
     ]
    },
    {
     "name": "stdout",
     "output_type": "stream",
     "text": [
      "Loss after 3 epochs: 0.6291670203208923\n"
     ]
    },
    {
     "name": "stderr",
     "output_type": "stream",
     "text": [
      "Evaluating: 100%|██████████| 9/9 [00:03<00:00,  2.88it/s]\n"
     ]
    },
    {
     "name": "stdout",
     "output_type": "stream",
     "text": [
      "              precision    recall  f1-score   support\n",
      "\n",
      "     ADDRESS       0.00      0.00      0.00        30\n",
      "        NAME       0.45      0.56      0.50       126\n",
      "       PHONE       0.00      0.00      0.00        77\n",
      "\n",
      "   micro avg       0.45      0.30      0.36       233\n",
      "   macro avg       0.15      0.19      0.17       233\n",
      "weighted avg       0.25      0.30      0.27       233\n",
      "\n",
      "Validation loss: 1.7801580429077148\n",
      "Validation loss did not decrease from 1.0092638731002808.\n",
      "Trigger Times: 1\n"
     ]
    },
    {
     "name": "stderr",
     "output_type": "stream",
     "text": [
      "training 4/100: 100%|██████████| 25/25 [00:49<00:00,  1.99s/it]\n"
     ]
    },
    {
     "name": "stdout",
     "output_type": "stream",
     "text": [
      "Loss after 4 epochs: 0.33739739656448364\n"
     ]
    },
    {
     "name": "stderr",
     "output_type": "stream",
     "text": [
      "Evaluating: 100%|██████████| 9/9 [00:03<00:00,  2.87it/s]\n"
     ]
    },
    {
     "name": "stdout",
     "output_type": "stream",
     "text": [
      "              precision    recall  f1-score   support\n",
      "\n",
      "     ADDRESS       0.00      0.00      0.00        30\n",
      "        NAME       0.44      0.61      0.51       126\n",
      "       PHONE       0.00      0.00      0.00        77\n",
      "\n",
      "   micro avg       0.44      0.33      0.38       233\n",
      "   macro avg       0.15      0.20      0.17       233\n",
      "weighted avg       0.24      0.33      0.27       233\n",
      "\n",
      "Validation loss: 0.3099338114261627\n",
      "Validation loss decresed. Saving checkpoint...\n"
     ]
    },
    {
     "name": "stderr",
     "output_type": "stream",
     "text": [
      "training 5/100: 100%|██████████| 25/25 [00:49<00:00,  1.99s/it]\n"
     ]
    },
    {
     "name": "stdout",
     "output_type": "stream",
     "text": [
      "Loss after 5 epochs: 0.46737396717071533\n"
     ]
    },
    {
     "name": "stderr",
     "output_type": "stream",
     "text": [
      "Evaluating: 100%|██████████| 9/9 [00:03<00:00,  2.78it/s]\n"
     ]
    },
    {
     "name": "stdout",
     "output_type": "stream",
     "text": [
      "              precision    recall  f1-score   support\n",
      "\n",
      "     ADDRESS       0.00      0.00      0.00        30\n",
      "        NAME       0.57      0.65      0.61       126\n",
      "       PHONE       0.66      0.35      0.46        77\n",
      "\n",
      "   micro avg       0.59      0.47      0.52       233\n",
      "   macro avg       0.41      0.33      0.36       233\n",
      "weighted avg       0.53      0.47      0.48       233\n",
      "\n",
      "Validation loss: 0.2485910803079605\n",
      "Validation loss decresed. Saving checkpoint...\n"
     ]
    },
    {
     "name": "stderr",
     "output_type": "stream",
     "text": [
      "training 6/100: 100%|██████████| 25/25 [00:49<00:00,  1.99s/it]\n"
     ]
    },
    {
     "name": "stdout",
     "output_type": "stream",
     "text": [
      "Loss after 6 epochs: 0.5905611515045166\n"
     ]
    },
    {
     "name": "stderr",
     "output_type": "stream",
     "text": [
      "Evaluating: 100%|██████████| 9/9 [00:03<00:00,  2.78it/s]\n"
     ]
    },
    {
     "name": "stdout",
     "output_type": "stream",
     "text": [
      "              precision    recall  f1-score   support\n",
      "\n",
      "     ADDRESS       0.00      0.00      0.00        30\n",
      "        NAME       0.54      0.70      0.61       126\n",
      "       PHONE       0.63      0.81      0.70        77\n",
      "\n",
      "   micro avg       0.57      0.64      0.60       233\n",
      "   macro avg       0.39      0.50      0.44       233\n",
      "weighted avg       0.50      0.64      0.56       233\n",
      "\n",
      "Validation loss: 1.0387274026870728\n",
      "Validation loss did not decrease from 0.2485910803079605.\n",
      "Trigger Times: 1\n"
     ]
    },
    {
     "name": "stderr",
     "output_type": "stream",
     "text": [
      "training 7/100: 100%|██████████| 25/25 [00:49<00:00,  1.99s/it]\n"
     ]
    },
    {
     "name": "stdout",
     "output_type": "stream",
     "text": [
      "Loss after 7 epochs: 0.9258135557174683\n"
     ]
    },
    {
     "name": "stderr",
     "output_type": "stream",
     "text": [
      "Evaluating: 100%|██████████| 9/9 [00:03<00:00,  2.78it/s]\n"
     ]
    },
    {
     "name": "stdout",
     "output_type": "stream",
     "text": [
      "              precision    recall  f1-score   support\n",
      "\n",
      "     ADDRESS       0.00      0.00      0.00        30\n",
      "        NAME       0.57      0.68      0.62       126\n",
      "       PHONE       0.69      0.60      0.64        77\n",
      "\n",
      "   micro avg       0.60      0.57      0.58       233\n",
      "   macro avg       0.42      0.43      0.42       233\n",
      "weighted avg       0.53      0.57      0.55       233\n",
      "\n",
      "Validation loss: 0.76225346326828\n",
      "Validation loss did not decrease from 0.2485910803079605.\n",
      "Trigger Times: 2\n"
     ]
    },
    {
     "name": "stderr",
     "output_type": "stream",
     "text": [
      "training 8/100: 100%|██████████| 25/25 [00:49<00:00,  2.00s/it]\n"
     ]
    },
    {
     "name": "stdout",
     "output_type": "stream",
     "text": [
      "Loss after 8 epochs: 0.37360265851020813\n"
     ]
    },
    {
     "name": "stderr",
     "output_type": "stream",
     "text": [
      "Evaluating: 100%|██████████| 9/9 [00:03<00:00,  2.79it/s]\n"
     ]
    },
    {
     "name": "stdout",
     "output_type": "stream",
     "text": [
      "              precision    recall  f1-score   support\n",
      "\n",
      "     ADDRESS       0.00      0.00      0.00        30\n",
      "        NAME       0.62      0.65      0.64       126\n",
      "       PHONE       0.65      0.74      0.69        77\n",
      "\n",
      "   micro avg       0.63      0.60      0.61       233\n",
      "   macro avg       0.42      0.46      0.44       233\n",
      "weighted avg       0.55      0.60      0.57       233\n",
      "\n",
      "Validation loss: 0.44387203454971313\n",
      "Validation loss did not decrease from 0.2485910803079605.\n",
      "Trigger Times: 3\n"
     ]
    },
    {
     "name": "stderr",
     "output_type": "stream",
     "text": [
      "training 9/100: 100%|██████████| 25/25 [00:49<00:00,  1.99s/it]\n"
     ]
    },
    {
     "name": "stdout",
     "output_type": "stream",
     "text": [
      "Loss after 9 epochs: 0.3242378532886505\n"
     ]
    },
    {
     "name": "stderr",
     "output_type": "stream",
     "text": [
      "Evaluating: 100%|██████████| 9/9 [00:03<00:00,  2.79it/s]\n"
     ]
    },
    {
     "name": "stdout",
     "output_type": "stream",
     "text": [
      "              precision    recall  f1-score   support\n",
      "\n",
      "     ADDRESS       0.00      0.00      0.00        30\n",
      "        NAME       0.65      0.70      0.67       126\n",
      "       PHONE       0.76      0.74      0.75        77\n",
      "\n",
      "   micro avg       0.68      0.62      0.65       233\n",
      "   macro avg       0.47      0.48      0.47       233\n",
      "weighted avg       0.60      0.62      0.61       233\n",
      "\n",
      "Validation loss: 0.3979661166667938\n",
      "Validation loss did not decrease from 0.2485910803079605.\n",
      "Trigger Times: 4\n"
     ]
    },
    {
     "name": "stderr",
     "output_type": "stream",
     "text": [
      "training 10/100: 100%|██████████| 25/25 [00:49<00:00,  1.99s/it]\n"
     ]
    },
    {
     "name": "stdout",
     "output_type": "stream",
     "text": [
      "Loss after 10 epochs: 0.2266542613506317\n"
     ]
    },
    {
     "name": "stderr",
     "output_type": "stream",
     "text": [
      "Evaluating: 100%|██████████| 9/9 [00:03<00:00,  2.78it/s]\n"
     ]
    },
    {
     "name": "stdout",
     "output_type": "stream",
     "text": [
      "              precision    recall  f1-score   support\n",
      "\n",
      "     ADDRESS       0.43      0.10      0.16        30\n",
      "        NAME       0.60      0.73      0.66       126\n",
      "       PHONE       0.73      0.64      0.68        77\n",
      "\n",
      "   micro avg       0.63      0.62      0.62       233\n",
      "   macro avg       0.59      0.49      0.50       233\n",
      "weighted avg       0.62      0.62      0.60       233\n",
      "\n",
      "Validation loss: 0.05464387312531471\n",
      "Validation loss decresed. Saving checkpoint...\n"
     ]
    },
    {
     "name": "stderr",
     "output_type": "stream",
     "text": [
      "training 11/100: 100%|██████████| 25/25 [00:49<00:00,  1.99s/it]\n"
     ]
    },
    {
     "name": "stdout",
     "output_type": "stream",
     "text": [
      "Loss after 11 epochs: 0.0985352173447609\n"
     ]
    },
    {
     "name": "stderr",
     "output_type": "stream",
     "text": [
      "Evaluating: 100%|██████████| 9/9 [00:03<00:00,  2.78it/s]\n"
     ]
    },
    {
     "name": "stdout",
     "output_type": "stream",
     "text": [
      "              precision    recall  f1-score   support\n",
      "\n",
      "     ADDRESS       0.36      0.13      0.20        30\n",
      "        NAME       0.56      0.72      0.63       126\n",
      "       PHONE       0.70      0.52      0.60        77\n",
      "\n",
      "   micro avg       0.59      0.58      0.58       233\n",
      "   macro avg       0.54      0.46      0.47       233\n",
      "weighted avg       0.58      0.58      0.56       233\n",
      "\n",
      "Validation loss: 1.7768176794052124\n",
      "Validation loss did not decrease from 0.05464387312531471.\n",
      "Trigger Times: 1\n"
     ]
    },
    {
     "name": "stderr",
     "output_type": "stream",
     "text": [
      "training 12/100:  44%|████▍     | 11/25 [00:23<00:29,  2.13s/it]\n"
     ]
    },
    {
     "ename": "KeyboardInterrupt",
     "evalue": "",
     "output_type": "error",
     "traceback": [
      "\u001b[0;31m---------------------------------------------------------------------------\u001b[0m",
      "\u001b[0;31mKeyboardInterrupt\u001b[0m                         Traceback (most recent call last)",
      "Cell \u001b[0;32mIn[45], line 11\u001b[0m\n\u001b[1;32m      8\u001b[0m early_stop_arg \u001b[38;5;241m=\u001b[39m {\u001b[38;5;124m'\u001b[39m\u001b[38;5;124mpatience\u001b[39m\u001b[38;5;124m'\u001b[39m: PATIENCE}\n\u001b[1;32m      9\u001b[0m \u001b[38;5;28mprint\u001b[39m(\u001b[38;5;124m'\u001b[39m\u001b[38;5;124mstarting training...\u001b[39m\u001b[38;5;124m'\u001b[39m)\n\u001b[0;32m---> 11\u001b[0m model \u001b[38;5;241m=\u001b[39m \u001b[43mtrain_layoutLM\u001b[49m\u001b[43m(\u001b[49m\u001b[43mbase_model\u001b[49m\u001b[43m,\u001b[49m\u001b[43m \u001b[49m\u001b[43mEPOCHS\u001b[49m\u001b[43m,\u001b[49m\u001b[43m \u001b[49m\u001b[43mtrain_dataloader\u001b[49m\u001b[43m,\u001b[49m\u001b[43m \u001b[49m\u001b[43meval_dataloader\u001b[49m\u001b[43m,\u001b[49m\u001b[43m \u001b[49m\u001b[43mtorch\u001b[49m\u001b[38;5;241;43m.\u001b[39;49m\u001b[43mtensor\u001b[49m\u001b[43m(\u001b[49m\u001b[43m[\u001b[49m\u001b[38;5;241;43m1\u001b[39;49m\u001b[43m]\u001b[49m\u001b[38;5;241;43m+\u001b[39;49m\u001b[43m[\u001b[49m\u001b[38;5;241;43m8\u001b[39;49m\u001b[43m]\u001b[49m\u001b[38;5;241;43m*\u001b[39;49m\u001b[43m(\u001b[49m\u001b[38;5;28;43mlen\u001b[39;49m\u001b[43m(\u001b[49m\u001b[43mlabels\u001b[49m\u001b[43m)\u001b[49m\u001b[38;5;241;43m-\u001b[39;49m\u001b[38;5;241;43m1\u001b[39;49m\u001b[43m)\u001b[49m\u001b[43m,\u001b[49m\u001b[43mdtype\u001b[49m\u001b[38;5;241;43m=\u001b[39;49m\u001b[43mtorch\u001b[49m\u001b[38;5;241;43m.\u001b[39;49m\u001b[43mfloat\u001b[49m\u001b[43m,\u001b[49m\u001b[43mdevice\u001b[49m\u001b[38;5;241;43m=\u001b[39;49m\u001b[38;5;124;43m'\u001b[39;49m\u001b[38;5;124;43mcuda\u001b[39;49m\u001b[38;5;124;43m'\u001b[39;49m\u001b[43m)\u001b[49m\u001b[43m,\u001b[49m\n\u001b[1;32m     12\u001b[0m \u001b[43m          \u001b[49m\u001b[43mAdamW\u001b[49m\u001b[43m(\u001b[49m\u001b[43mbase_model\u001b[49m\u001b[38;5;241;43m.\u001b[39;49m\u001b[43mparameters\u001b[49m\u001b[43m(\u001b[49m\u001b[43m)\u001b[49m\u001b[43m,\u001b[49m\u001b[43m \u001b[49m\u001b[43mlr\u001b[49m\u001b[38;5;241;43m=\u001b[39;49m\u001b[43mLR\u001b[49m\u001b[43m)\u001b[49m\u001b[43m,\u001b[49m\u001b[43m \u001b[49m\u001b[43mearly_stop_arg\u001b[49m\u001b[43m,\u001b[49m\u001b[43m \u001b[49m\u001b[43mRUN_ID\u001b[49m\u001b[43m,\u001b[49m\u001b[43m \u001b[49m\u001b[38;5;124;43m'\u001b[39;49m\u001b[38;5;124;43m/home/ec2-user/SageMaker/experiments/model/\u001b[39;49m\u001b[38;5;124;43m'\u001b[39;49m\u001b[43m,\u001b[49m\u001b[38;5;124;43m'\u001b[39;49m\u001b[38;5;124;43m/home/ec2-user/SageMaker/experiments/results/\u001b[39;49m\u001b[38;5;124;43m'\u001b[39;49m\u001b[43m)\u001b[49m\n\u001b[1;32m     14\u001b[0m torch\u001b[38;5;241m.\u001b[39msave(model, \u001b[38;5;124m'\u001b[39m\u001b[38;5;124m/home/ec2-user/SageMaker/experiments/model/LayoutLMv3_FUNSD.pt\u001b[39m\u001b[38;5;124m'\u001b[39m)\n",
      "Cell \u001b[0;32mIn[42], line 65\u001b[0m, in \u001b[0;36mtrain_layoutLM\u001b[0;34m(model, epochs, dataloader_train, dataloader_eval, class_weights, optimizer, early_stop_arg, run, model_dir, results_dir)\u001b[0m\n\u001b[1;32m     62\u001b[0m     loss \u001b[38;5;241m=\u001b[39m outputs\u001b[38;5;241m.\u001b[39mloss\n\u001b[1;32m     64\u001b[0m     loss\u001b[38;5;241m.\u001b[39mbackward()\n\u001b[0;32m---> 65\u001b[0m     \u001b[43moptimizer\u001b[49m\u001b[38;5;241;43m.\u001b[39;49m\u001b[43mstep\u001b[49m\u001b[43m(\u001b[49m\u001b[43m)\u001b[49m\n\u001b[1;32m     66\u001b[0m     global_step \u001b[38;5;241m+\u001b[39m\u001b[38;5;241m=\u001b[39m \u001b[38;5;241m1\u001b[39m\n\u001b[1;32m     69\u001b[0m \u001b[38;5;28mprint\u001b[39m(\u001b[38;5;124mf\u001b[39m\u001b[38;5;124m\"\u001b[39m\u001b[38;5;124mLoss after \u001b[39m\u001b[38;5;132;01m{\u001b[39;00mepoch\u001b[38;5;132;01m}\u001b[39;00m\u001b[38;5;124m epochs: \u001b[39m\u001b[38;5;132;01m{\u001b[39;00mloss\u001b[38;5;241m.\u001b[39mitem()\u001b[38;5;132;01m}\u001b[39;00m\u001b[38;5;124m\"\u001b[39m)    \n",
      "File \u001b[0;32m~/anaconda3/envs/pytorch_p310/lib/python3.10/site-packages/torch/optim/optimizer.py:280\u001b[0m, in \u001b[0;36mOptimizer.profile_hook_step.<locals>.wrapper\u001b[0;34m(*args, **kwargs)\u001b[0m\n\u001b[1;32m    276\u001b[0m         \u001b[38;5;28;01melse\u001b[39;00m:\n\u001b[1;32m    277\u001b[0m             \u001b[38;5;28;01mraise\u001b[39;00m \u001b[38;5;167;01mRuntimeError\u001b[39;00m(\u001b[38;5;124mf\u001b[39m\u001b[38;5;124m\"\u001b[39m\u001b[38;5;132;01m{\u001b[39;00mfunc\u001b[38;5;132;01m}\u001b[39;00m\u001b[38;5;124m must return None or a tuple of (new_args, new_kwargs),\u001b[39m\u001b[38;5;124m\"\u001b[39m\n\u001b[1;32m    278\u001b[0m                                \u001b[38;5;124mf\u001b[39m\u001b[38;5;124m\"\u001b[39m\u001b[38;5;124mbut got \u001b[39m\u001b[38;5;132;01m{\u001b[39;00mresult\u001b[38;5;132;01m}\u001b[39;00m\u001b[38;5;124m.\u001b[39m\u001b[38;5;124m\"\u001b[39m)\n\u001b[0;32m--> 280\u001b[0m out \u001b[38;5;241m=\u001b[39m \u001b[43mfunc\u001b[49m\u001b[43m(\u001b[49m\u001b[38;5;241;43m*\u001b[39;49m\u001b[43margs\u001b[49m\u001b[43m,\u001b[49m\u001b[43m \u001b[49m\u001b[38;5;241;43m*\u001b[39;49m\u001b[38;5;241;43m*\u001b[39;49m\u001b[43mkwargs\u001b[49m\u001b[43m)\u001b[49m\n\u001b[1;32m    281\u001b[0m \u001b[38;5;28mself\u001b[39m\u001b[38;5;241m.\u001b[39m_optimizer_step_code()\n\u001b[1;32m    283\u001b[0m \u001b[38;5;66;03m# call optimizer step post hooks\u001b[39;00m\n",
      "File \u001b[0;32m~/anaconda3/envs/pytorch_p310/lib/python3.10/site-packages/torch/utils/_contextlib.py:115\u001b[0m, in \u001b[0;36mcontext_decorator.<locals>.decorate_context\u001b[0;34m(*args, **kwargs)\u001b[0m\n\u001b[1;32m    112\u001b[0m \u001b[38;5;129m@functools\u001b[39m\u001b[38;5;241m.\u001b[39mwraps(func)\n\u001b[1;32m    113\u001b[0m \u001b[38;5;28;01mdef\u001b[39;00m \u001b[38;5;21mdecorate_context\u001b[39m(\u001b[38;5;241m*\u001b[39margs, \u001b[38;5;241m*\u001b[39m\u001b[38;5;241m*\u001b[39mkwargs):\n\u001b[1;32m    114\u001b[0m     \u001b[38;5;28;01mwith\u001b[39;00m ctx_factory():\n\u001b[0;32m--> 115\u001b[0m         \u001b[38;5;28;01mreturn\u001b[39;00m \u001b[43mfunc\u001b[49m\u001b[43m(\u001b[49m\u001b[38;5;241;43m*\u001b[39;49m\u001b[43margs\u001b[49m\u001b[43m,\u001b[49m\u001b[43m \u001b[49m\u001b[38;5;241;43m*\u001b[39;49m\u001b[38;5;241;43m*\u001b[39;49m\u001b[43mkwargs\u001b[49m\u001b[43m)\u001b[49m\n",
      "File \u001b[0;32m~/anaconda3/envs/pytorch_p310/lib/python3.10/site-packages/transformers/optimization.py:494\u001b[0m, in \u001b[0;36mAdamW.step\u001b[0;34m(self, closure)\u001b[0m\n\u001b[1;32m    491\u001b[0m     bias_correction2 \u001b[38;5;241m=\u001b[39m \u001b[38;5;241m1.0\u001b[39m \u001b[38;5;241m-\u001b[39m beta2 \u001b[38;5;241m*\u001b[39m\u001b[38;5;241m*\u001b[39m state[\u001b[38;5;124m\"\u001b[39m\u001b[38;5;124mstep\u001b[39m\u001b[38;5;124m\"\u001b[39m]\n\u001b[1;32m    492\u001b[0m     step_size \u001b[38;5;241m=\u001b[39m step_size \u001b[38;5;241m*\u001b[39m math\u001b[38;5;241m.\u001b[39msqrt(bias_correction2) \u001b[38;5;241m/\u001b[39m bias_correction1\n\u001b[0;32m--> 494\u001b[0m \u001b[43mp\u001b[49m\u001b[38;5;241;43m.\u001b[39;49m\u001b[43maddcdiv_\u001b[49m\u001b[43m(\u001b[49m\u001b[43mexp_avg\u001b[49m\u001b[43m,\u001b[49m\u001b[43m \u001b[49m\u001b[43mdenom\u001b[49m\u001b[43m,\u001b[49m\u001b[43m \u001b[49m\u001b[43mvalue\u001b[49m\u001b[38;5;241;43m=\u001b[39;49m\u001b[38;5;241;43m-\u001b[39;49m\u001b[43mstep_size\u001b[49m\u001b[43m)\u001b[49m\n\u001b[1;32m    496\u001b[0m \u001b[38;5;66;03m# Just adding the square of the weights to the loss function is *not*\u001b[39;00m\n\u001b[1;32m    497\u001b[0m \u001b[38;5;66;03m# the correct way of using L2 regularization/weight decay with Adam,\u001b[39;00m\n\u001b[1;32m    498\u001b[0m \u001b[38;5;66;03m# since that will interact with the m and v parameters in strange ways.\u001b[39;00m\n\u001b[0;32m   (...)\u001b[0m\n\u001b[1;32m    502\u001b[0m \u001b[38;5;66;03m# of the weights to the loss with plain (non-momentum) SGD.\u001b[39;00m\n\u001b[1;32m    503\u001b[0m \u001b[38;5;66;03m# Add weight decay at the end (fixed version)\u001b[39;00m\n\u001b[1;32m    504\u001b[0m \u001b[38;5;28;01mif\u001b[39;00m group[\u001b[38;5;124m\"\u001b[39m\u001b[38;5;124mweight_decay\u001b[39m\u001b[38;5;124m\"\u001b[39m] \u001b[38;5;241m>\u001b[39m \u001b[38;5;241m0.0\u001b[39m:\n",
      "\u001b[0;31mKeyboardInterrupt\u001b[0m: "
     ]
    }
   ],
   "source": [
    "BATCH_SIZE=2\n",
    "LR=1e-5\n",
    "EPOCHS=100\n",
    "PATIENCE=20\n",
    "RUN_ID=1\n",
    "\n",
    "base_model = LayoutLMv3ForTokenClassification.from_pretrained(\"microsoft/layoutlmv3-base\",num_labels=len(labels))\n",
    "early_stop_arg = {'patience': PATIENCE}\n",
    "print('starting training...')\n",
    "\n",
    "model = train_layoutLM(base_model, EPOCHS, train_dataloader, eval_dataloader, torch.tensor([1]+[8]*(len(labels)-1),dtype=torch.float,device='cuda'),\n",
    "          AdamW(base_model.parameters(), lr=LR), early_stop_arg, RUN_ID, '/home/ec2-user/SageMaker/experiments/model/','/home/ec2-user/SageMaker/experiments/results/')\n",
    "\n",
    "torch.save(model, '/home/ec2-user/SageMaker/experiments/model/LayoutLMv3_FUNSD.pt')"
   ]
  },
  {
   "cell_type": "code",
   "execution_count": 40,
   "id": "4e6816f5-5915-4f46-bba6-24ec079c33a0",
   "metadata": {},
   "outputs": [
    {
     "data": {
      "image/png": "[encoded data removed]",
      "text/plain": [
       "<Figure size 1000x600 with 1 Axes>"
      ]
     },
     "metadata": {},
     "output_type": "display_data"
    }
   ],
   "source": [
    "import pandas as pd\n",
    "import matplotlib.pyplot as plt\n",
    "\n",
    "# Replace 'your_file.csv' with the actual path to your CSV file\n",
    "csv_file_path = '/home/ec2-user/SageMaker/experiments/results/log_FUNSD_run1.csv'\n",
    "\n",
    "# Read CSV file into a DataFrame\n",
    "df = pd.read_csv(csv_file_path)\n",
    "\n",
    "# Plotting\n",
    "plt.figure(figsize=(10, 6))\n",
    "\n",
    "# Plot eval_loss\n",
    "plt.plot(df['epoch'], df['eval_loss'], label='Evaluation Loss', marker='o')\n",
    "\n",
    "# Plot train_loss\n",
    "plt.plot(df['epoch'], df['train_loss'], label='Training Loss', marker='o')\n",
    "\n",
    "# Customize the plot\n",
    "plt.title('Evaluation and Training Loss Over Epochs')\n",
    "plt.xlabel('Epoch')\n",
    "plt.ylabel('Loss')\n",
    "plt.legend()\n",
    "plt.grid(True)\n",
    "\n",
    "# Show the plot\n",
    "# plt.show()\n",
    "plt.savefig('/home/ec2-user/SageMaker/experiments/results/model_training_progress.png', bbox_inches='tight')\n",
    "\n"
   ]
  },
  {
   "cell_type": "code",
   "execution_count": null,
   "id": "7834284d-0624-45b3-8370-f0b6b5f4e395",
   "metadata": {},
   "outputs": [],
   "source": []
  },
  {
   "cell_type": "code",
   "execution_count": null,
   "id": "790d414c-2c47-43b2-b8be-467b7c17d845",
   "metadata": {},
   "outputs": [],
   "source": []
  },
  {
   "cell_type": "code",
   "execution_count": 37,
   "id": "04311ab0-767e-4d40-b8d5-5bd3a7f425ca",
   "metadata": {
    "tags": []
   },
   "outputs": [
    {
     "name": "stdout",
     "output_type": "stream",
     "text": [
      "\\begin{tabular}{lllll}\n",
      "\\cline{2-5}\n",
      "\\hline\n",
      "              & Precision   & Recall   & F1-Score   & Support   \\\\\n",
      "\\hline\n",
      " ADDRESS      & 0.38        & 0.17     & 0.23       & 30        \\\\\n",
      " NAME         & 0.61        & 0.73     & 0.66       & 126       \\\\\n",
      " PHONE        & 0.81        & 0.7      & 0.75       & 77        \\\\\n",
      "              &             &          &            &           \\\\\n",
      " micro avg    & 0.65        & 0.65     & 0.65       & 233       \\\\\n",
      " macro avg    & 0.6         & 0.53     & 0.55       & 233       \\\\\n",
      " weighted avg & 0.64        & 0.65     & 0.64       & 233       \\\\\n",
      "\\hline\n",
      "\\end{tabular}\n"
     ]
    }
   ],
   "source": [
    "from tabulate import tabulate\n",
    "\n",
    "# Your data\n",
    "data = [\n",
    "    ['ADDRESS', 0.38, 0.17, 0.23, 30],\n",
    "    ['NAME', 0.61, 0.73, 0.66, 126],\n",
    "    ['PHONE', 0.81, 0.70, 0.75, 77],\n",
    "    ['', '', '', '', ''],  # Empty row\n",
    "    ['micro avg', 0.65, 0.65, 0.65, 233],\n",
    "    ['macro avg', 0.60, 0.53, 0.55, 233],\n",
    "    ['weighted avg', 0.64, 0.65, 0.64, 233]\n",
    "]\n",
    "\n",
    "# Define headers\n",
    "headers = [\"\", \"Precision\", \"Recall\", \"F1-Score\", \"Support\"]\n",
    "\n",
    "# Convert data to LaTeX table\n",
    "latex_table = tabulate(data, headers, tablefmt=\"latex_raw\")\n",
    "\n",
    "# Replace the empty row with a \\cline command to draw a line\n",
    "latex_table = latex_table.replace('\\\\hline', '\\\\cline{2-5}\\n\\\\hline', 1)\n",
    "\n",
    "# Print or use latex_table as needed in your LaTeX document\n",
    "print(latex_table)\n"
   ]
  },
  {
   "cell_type": "code",
   "execution_count": null,
   "id": "35912b6d-1fbe-432b-a70f-fef6ffb96de8",
   "metadata": {},
   "outputs": [],
   "source": []
  }
 ],
 "metadata": {
  "kernelspec": {
   "display_name": "conda_pytorch_p310",
   "language": "python",
   "name": "conda_pytorch_p310"
  },
  "language_info": {
   "codemirror_mode": {
    "name": "ipython",
    "version": 3
   },
   "file_extension": ".py",
   "mimetype": "text/x-python",
   "name": "python",
   "nbconvert_exporter": "python",
   "pygments_lexer": "ipython3",
   "version": "3.10.13"
  }
 },
 "nbformat": 4,
 "nbformat_minor": 5
}
